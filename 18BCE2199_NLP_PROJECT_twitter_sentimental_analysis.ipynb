{
  "cells": [
    {
      "cell_type": "code",
      "execution_count": 1,
      "metadata": {
        "colab": {
          "base_uri": "https://localhost:8080/"
        },
        "id": "K1y94TMIONKy",
        "outputId": "3025d790-2c26-4cd0-9719-5e4af84520fb"
      },
      "outputs": [
        {
          "output_type": "stream",
          "name": "stdout",
          "text": [
            "Requirement already satisfied: textblob in /usr/local/lib/python3.12/dist-packages (0.19.0)\n",
            "Requirement already satisfied: nltk>=3.9 in /usr/local/lib/python3.12/dist-packages (from textblob) (3.9.1)\n",
            "Requirement already satisfied: click in /usr/local/lib/python3.12/dist-packages (from nltk>=3.9->textblob) (8.2.1)\n",
            "Requirement already satisfied: joblib in /usr/local/lib/python3.12/dist-packages (from nltk>=3.9->textblob) (1.5.2)\n",
            "Requirement already satisfied: regex>=2021.8.3 in /usr/local/lib/python3.12/dist-packages (from nltk>=3.9->textblob) (2024.11.6)\n",
            "Requirement already satisfied: tqdm in /usr/local/lib/python3.12/dist-packages (from nltk>=3.9->textblob) (4.67.1)\n"
          ]
        }
      ],
      "source": [
        "pip install -U textblob"
      ]
    },
    {
      "cell_type": "code",
      "source": [
        "from google.colab import files\n",
        "uploaded = files.upload()"
      ],
      "metadata": {
        "colab": {
          "base_uri": "https://localhost:8080/",
          "height": 72
        },
        "id": "at433vZ-OPYh",
        "outputId": "26d97eb6-fb1a-46b3-d974-792c9d92a981"
      },
      "execution_count": 2,
      "outputs": [
        {
          "output_type": "display_data",
          "data": {
            "text/plain": [
              "<IPython.core.display.HTML object>"
            ],
            "text/html": [
              "\n",
              "     <input type=\"file\" id=\"files-c9a65633-a094-49d3-b91e-b013324d4025\" name=\"files[]\" multiple disabled\n",
              "        style=\"border:none\" />\n",
              "     <output id=\"result-c9a65633-a094-49d3-b91e-b013324d4025\">\n",
              "      Upload widget is only available when the cell has been executed in the\n",
              "      current browser session. Please rerun this cell to enable.\n",
              "      </output>\n",
              "      <script>// Copyright 2017 Google LLC\n",
              "//\n",
              "// Licensed under the Apache License, Version 2.0 (the \"License\");\n",
              "// you may not use this file except in compliance with the License.\n",
              "// You may obtain a copy of the License at\n",
              "//\n",
              "//      http://www.apache.org/licenses/LICENSE-2.0\n",
              "//\n",
              "// Unless required by applicable law or agreed to in writing, software\n",
              "// distributed under the License is distributed on an \"AS IS\" BASIS,\n",
              "// WITHOUT WARRANTIES OR CONDITIONS OF ANY KIND, either express or implied.\n",
              "// See the License for the specific language governing permissions and\n",
              "// limitations under the License.\n",
              "\n",
              "/**\n",
              " * @fileoverview Helpers for google.colab Python module.\n",
              " */\n",
              "(function(scope) {\n",
              "function span(text, styleAttributes = {}) {\n",
              "  const element = document.createElement('span');\n",
              "  element.textContent = text;\n",
              "  for (const key of Object.keys(styleAttributes)) {\n",
              "    element.style[key] = styleAttributes[key];\n",
              "  }\n",
              "  return element;\n",
              "}\n",
              "\n",
              "// Max number of bytes which will be uploaded at a time.\n",
              "const MAX_PAYLOAD_SIZE = 100 * 1024;\n",
              "\n",
              "function _uploadFiles(inputId, outputId) {\n",
              "  const steps = uploadFilesStep(inputId, outputId);\n",
              "  const outputElement = document.getElementById(outputId);\n",
              "  // Cache steps on the outputElement to make it available for the next call\n",
              "  // to uploadFilesContinue from Python.\n",
              "  outputElement.steps = steps;\n",
              "\n",
              "  return _uploadFilesContinue(outputId);\n",
              "}\n",
              "\n",
              "// This is roughly an async generator (not supported in the browser yet),\n",
              "// where there are multiple asynchronous steps and the Python side is going\n",
              "// to poll for completion of each step.\n",
              "// This uses a Promise to block the python side on completion of each step,\n",
              "// then passes the result of the previous step as the input to the next step.\n",
              "function _uploadFilesContinue(outputId) {\n",
              "  const outputElement = document.getElementById(outputId);\n",
              "  const steps = outputElement.steps;\n",
              "\n",
              "  const next = steps.next(outputElement.lastPromiseValue);\n",
              "  return Promise.resolve(next.value.promise).then((value) => {\n",
              "    // Cache the last promise value to make it available to the next\n",
              "    // step of the generator.\n",
              "    outputElement.lastPromiseValue = value;\n",
              "    return next.value.response;\n",
              "  });\n",
              "}\n",
              "\n",
              "/**\n",
              " * Generator function which is called between each async step of the upload\n",
              " * process.\n",
              " * @param {string} inputId Element ID of the input file picker element.\n",
              " * @param {string} outputId Element ID of the output display.\n",
              " * @return {!Iterable<!Object>} Iterable of next steps.\n",
              " */\n",
              "function* uploadFilesStep(inputId, outputId) {\n",
              "  const inputElement = document.getElementById(inputId);\n",
              "  inputElement.disabled = false;\n",
              "\n",
              "  const outputElement = document.getElementById(outputId);\n",
              "  outputElement.innerHTML = '';\n",
              "\n",
              "  const pickedPromise = new Promise((resolve) => {\n",
              "    inputElement.addEventListener('change', (e) => {\n",
              "      resolve(e.target.files);\n",
              "    });\n",
              "  });\n",
              "\n",
              "  const cancel = document.createElement('button');\n",
              "  inputElement.parentElement.appendChild(cancel);\n",
              "  cancel.textContent = 'Cancel upload';\n",
              "  const cancelPromise = new Promise((resolve) => {\n",
              "    cancel.onclick = () => {\n",
              "      resolve(null);\n",
              "    };\n",
              "  });\n",
              "\n",
              "  // Wait for the user to pick the files.\n",
              "  const files = yield {\n",
              "    promise: Promise.race([pickedPromise, cancelPromise]),\n",
              "    response: {\n",
              "      action: 'starting',\n",
              "    }\n",
              "  };\n",
              "\n",
              "  cancel.remove();\n",
              "\n",
              "  // Disable the input element since further picks are not allowed.\n",
              "  inputElement.disabled = true;\n",
              "\n",
              "  if (!files) {\n",
              "    return {\n",
              "      response: {\n",
              "        action: 'complete',\n",
              "      }\n",
              "    };\n",
              "  }\n",
              "\n",
              "  for (const file of files) {\n",
              "    const li = document.createElement('li');\n",
              "    li.append(span(file.name, {fontWeight: 'bold'}));\n",
              "    li.append(span(\n",
              "        `(${file.type || 'n/a'}) - ${file.size} bytes, ` +\n",
              "        `last modified: ${\n",
              "            file.lastModifiedDate ? file.lastModifiedDate.toLocaleDateString() :\n",
              "                                    'n/a'} - `));\n",
              "    const percent = span('0% done');\n",
              "    li.appendChild(percent);\n",
              "\n",
              "    outputElement.appendChild(li);\n",
              "\n",
              "    const fileDataPromise = new Promise((resolve) => {\n",
              "      const reader = new FileReader();\n",
              "      reader.onload = (e) => {\n",
              "        resolve(e.target.result);\n",
              "      };\n",
              "      reader.readAsArrayBuffer(file);\n",
              "    });\n",
              "    // Wait for the data to be ready.\n",
              "    let fileData = yield {\n",
              "      promise: fileDataPromise,\n",
              "      response: {\n",
              "        action: 'continue',\n",
              "      }\n",
              "    };\n",
              "\n",
              "    // Use a chunked sending to avoid message size limits. See b/62115660.\n",
              "    let position = 0;\n",
              "    do {\n",
              "      const length = Math.min(fileData.byteLength - position, MAX_PAYLOAD_SIZE);\n",
              "      const chunk = new Uint8Array(fileData, position, length);\n",
              "      position += length;\n",
              "\n",
              "      const base64 = btoa(String.fromCharCode.apply(null, chunk));\n",
              "      yield {\n",
              "        response: {\n",
              "          action: 'append',\n",
              "          file: file.name,\n",
              "          data: base64,\n",
              "        },\n",
              "      };\n",
              "\n",
              "      let percentDone = fileData.byteLength === 0 ?\n",
              "          100 :\n",
              "          Math.round((position / fileData.byteLength) * 100);\n",
              "      percent.textContent = `${percentDone}% done`;\n",
              "\n",
              "    } while (position < fileData.byteLength);\n",
              "  }\n",
              "\n",
              "  // All done.\n",
              "  yield {\n",
              "    response: {\n",
              "      action: 'complete',\n",
              "    }\n",
              "  };\n",
              "}\n",
              "\n",
              "scope.google = scope.google || {};\n",
              "scope.google.colab = scope.google.colab || {};\n",
              "scope.google.colab._files = {\n",
              "  _uploadFiles,\n",
              "  _uploadFilesContinue,\n",
              "};\n",
              "})(self);\n",
              "</script> "
            ]
          },
          "metadata": {}
        },
        {
          "output_type": "stream",
          "name": "stdout",
          "text": [
            "Saving text_emotion.csv to text_emotion.csv\n"
          ]
        }
      ]
    },
    {
      "cell_type": "code",
      "execution_count": 3,
      "metadata": {
        "colab": {
          "base_uri": "https://localhost:8080/"
        },
        "id": "box-Huk1ONK0",
        "outputId": "c3ec0528-83c9-4bbe-ed30-3125fa6771ac"
      },
      "outputs": [
        {
          "output_type": "stream",
          "name": "stderr",
          "text": [
            "[nltk_data] Downloading package wordnet to /root/nltk_data...\n"
          ]
        }
      ],
      "source": [
        "import pandas as pd\n",
        "import numpy as np\n",
        "from matplotlib import pyplot as plt\n",
        "import nltk\n",
        "nltk.download('wordnet')\n",
        "data = pd.read_csv('text_emotion.csv')"
      ]
    },
    {
      "cell_type": "code",
      "execution_count": 4,
      "metadata": {
        "colab": {
          "base_uri": "https://localhost:8080/",
          "height": 424
        },
        "id": "raPT4UPXONK0",
        "outputId": "af90ce11-466d-475b-f3d0-1a75f2d4d6d2"
      },
      "outputs": [
        {
          "output_type": "execute_result",
          "data": {
            "text/plain": [
              "         tweet_id   sentiment  \\\n",
              "0      1956967341       empty   \n",
              "1      1956967666     sadness   \n",
              "2      1956967696     sadness   \n",
              "3      1956967789  enthusiasm   \n",
              "4      1956968416     neutral   \n",
              "...           ...         ...   \n",
              "39995  1753918954     neutral   \n",
              "39996  1753919001        love   \n",
              "39997  1753919005        love   \n",
              "39998  1753919043   happiness   \n",
              "39999  1753919049        love   \n",
              "\n",
              "                                                 content  \n",
              "0      @tiffanylue i know  i was listenin to bad habi...  \n",
              "1      Layin n bed with a headache  ughhhh...waitin o...  \n",
              "2                    Funeral ceremony...gloomy friday...  \n",
              "3                   wants to hang out with friends SOON!  \n",
              "4      @dannycastillo We want to trade with someone w...  \n",
              "...                                                  ...  \n",
              "39995                                   @JohnLloydTaylor  \n",
              "39996                     Happy Mothers Day  All my love  \n",
              "39997  Happy Mother's Day to all the mommies out ther...  \n",
              "39998  @niariley WASSUP BEAUTIFUL!!! FOLLOW ME!!  PEE...  \n",
              "39999  @mopedronin bullet train from tokyo    the gf ...  \n",
              "\n",
              "[40000 rows x 3 columns]"
            ],
            "text/html": [
              "\n",
              "  <div id=\"df-6ce43759-41cc-4e06-b062-3879d7a00987\" class=\"colab-df-container\">\n",
              "    <div>\n",
              "<style scoped>\n",
              "    .dataframe tbody tr th:only-of-type {\n",
              "        vertical-align: middle;\n",
              "    }\n",
              "\n",
              "    .dataframe tbody tr th {\n",
              "        vertical-align: top;\n",
              "    }\n",
              "\n",
              "    .dataframe thead th {\n",
              "        text-align: right;\n",
              "    }\n",
              "</style>\n",
              "<table border=\"1\" class=\"dataframe\">\n",
              "  <thead>\n",
              "    <tr style=\"text-align: right;\">\n",
              "      <th></th>\n",
              "      <th>tweet_id</th>\n",
              "      <th>sentiment</th>\n",
              "      <th>content</th>\n",
              "    </tr>\n",
              "  </thead>\n",
              "  <tbody>\n",
              "    <tr>\n",
              "      <th>0</th>\n",
              "      <td>1956967341</td>\n",
              "      <td>empty</td>\n",
              "      <td>@tiffanylue i know  i was listenin to bad habi...</td>\n",
              "    </tr>\n",
              "    <tr>\n",
              "      <th>1</th>\n",
              "      <td>1956967666</td>\n",
              "      <td>sadness</td>\n",
              "      <td>Layin n bed with a headache  ughhhh...waitin o...</td>\n",
              "    </tr>\n",
              "    <tr>\n",
              "      <th>2</th>\n",
              "      <td>1956967696</td>\n",
              "      <td>sadness</td>\n",
              "      <td>Funeral ceremony...gloomy friday...</td>\n",
              "    </tr>\n",
              "    <tr>\n",
              "      <th>3</th>\n",
              "      <td>1956967789</td>\n",
              "      <td>enthusiasm</td>\n",
              "      <td>wants to hang out with friends SOON!</td>\n",
              "    </tr>\n",
              "    <tr>\n",
              "      <th>4</th>\n",
              "      <td>1956968416</td>\n",
              "      <td>neutral</td>\n",
              "      <td>@dannycastillo We want to trade with someone w...</td>\n",
              "    </tr>\n",
              "    <tr>\n",
              "      <th>...</th>\n",
              "      <td>...</td>\n",
              "      <td>...</td>\n",
              "      <td>...</td>\n",
              "    </tr>\n",
              "    <tr>\n",
              "      <th>39995</th>\n",
              "      <td>1753918954</td>\n",
              "      <td>neutral</td>\n",
              "      <td>@JohnLloydTaylor</td>\n",
              "    </tr>\n",
              "    <tr>\n",
              "      <th>39996</th>\n",
              "      <td>1753919001</td>\n",
              "      <td>love</td>\n",
              "      <td>Happy Mothers Day  All my love</td>\n",
              "    </tr>\n",
              "    <tr>\n",
              "      <th>39997</th>\n",
              "      <td>1753919005</td>\n",
              "      <td>love</td>\n",
              "      <td>Happy Mother's Day to all the mommies out ther...</td>\n",
              "    </tr>\n",
              "    <tr>\n",
              "      <th>39998</th>\n",
              "      <td>1753919043</td>\n",
              "      <td>happiness</td>\n",
              "      <td>@niariley WASSUP BEAUTIFUL!!! FOLLOW ME!!  PEE...</td>\n",
              "    </tr>\n",
              "    <tr>\n",
              "      <th>39999</th>\n",
              "      <td>1753919049</td>\n",
              "      <td>love</td>\n",
              "      <td>@mopedronin bullet train from tokyo    the gf ...</td>\n",
              "    </tr>\n",
              "  </tbody>\n",
              "</table>\n",
              "<p>40000 rows × 3 columns</p>\n",
              "</div>\n",
              "    <div class=\"colab-df-buttons\">\n",
              "\n",
              "  <div class=\"colab-df-container\">\n",
              "    <button class=\"colab-df-convert\" onclick=\"convertToInteractive('df-6ce43759-41cc-4e06-b062-3879d7a00987')\"\n",
              "            title=\"Convert this dataframe to an interactive table.\"\n",
              "            style=\"display:none;\">\n",
              "\n",
              "  <svg xmlns=\"http://www.w3.org/2000/svg\" height=\"24px\" viewBox=\"0 -960 960 960\">\n",
              "    <path d=\"M120-120v-720h720v720H120Zm60-500h600v-160H180v160Zm220 220h160v-160H400v160Zm0 220h160v-160H400v160ZM180-400h160v-160H180v160Zm440 0h160v-160H620v160ZM180-180h160v-160H180v160Zm440 0h160v-160H620v160Z\"/>\n",
              "  </svg>\n",
              "    </button>\n",
              "\n",
              "  <style>\n",
              "    .colab-df-container {\n",
              "      display:flex;\n",
              "      gap: 12px;\n",
              "    }\n",
              "\n",
              "    .colab-df-convert {\n",
              "      background-color: #E8F0FE;\n",
              "      border: none;\n",
              "      border-radius: 50%;\n",
              "      cursor: pointer;\n",
              "      display: none;\n",
              "      fill: #1967D2;\n",
              "      height: 32px;\n",
              "      padding: 0 0 0 0;\n",
              "      width: 32px;\n",
              "    }\n",
              "\n",
              "    .colab-df-convert:hover {\n",
              "      background-color: #E2EBFA;\n",
              "      box-shadow: 0px 1px 2px rgba(60, 64, 67, 0.3), 0px 1px 3px 1px rgba(60, 64, 67, 0.15);\n",
              "      fill: #174EA6;\n",
              "    }\n",
              "\n",
              "    .colab-df-buttons div {\n",
              "      margin-bottom: 4px;\n",
              "    }\n",
              "\n",
              "    [theme=dark] .colab-df-convert {\n",
              "      background-color: #3B4455;\n",
              "      fill: #D2E3FC;\n",
              "    }\n",
              "\n",
              "    [theme=dark] .colab-df-convert:hover {\n",
              "      background-color: #434B5C;\n",
              "      box-shadow: 0px 1px 3px 1px rgba(0, 0, 0, 0.15);\n",
              "      filter: drop-shadow(0px 1px 2px rgba(0, 0, 0, 0.3));\n",
              "      fill: #FFFFFF;\n",
              "    }\n",
              "  </style>\n",
              "\n",
              "    <script>\n",
              "      const buttonEl =\n",
              "        document.querySelector('#df-6ce43759-41cc-4e06-b062-3879d7a00987 button.colab-df-convert');\n",
              "      buttonEl.style.display =\n",
              "        google.colab.kernel.accessAllowed ? 'block' : 'none';\n",
              "\n",
              "      async function convertToInteractive(key) {\n",
              "        const element = document.querySelector('#df-6ce43759-41cc-4e06-b062-3879d7a00987');\n",
              "        const dataTable =\n",
              "          await google.colab.kernel.invokeFunction('convertToInteractive',\n",
              "                                                    [key], {});\n",
              "        if (!dataTable) return;\n",
              "\n",
              "        const docLinkHtml = 'Like what you see? Visit the ' +\n",
              "          '<a target=\"_blank\" href=https://colab.research.google.com/notebooks/data_table.ipynb>data table notebook</a>'\n",
              "          + ' to learn more about interactive tables.';\n",
              "        element.innerHTML = '';\n",
              "        dataTable['output_type'] = 'display_data';\n",
              "        await google.colab.output.renderOutput(dataTable, element);\n",
              "        const docLink = document.createElement('div');\n",
              "        docLink.innerHTML = docLinkHtml;\n",
              "        element.appendChild(docLink);\n",
              "      }\n",
              "    </script>\n",
              "  </div>\n",
              "\n",
              "\n",
              "    <div id=\"df-fe1add7c-b2c3-4f05-8c09-1b8b20a11203\">\n",
              "      <button class=\"colab-df-quickchart\" onclick=\"quickchart('df-fe1add7c-b2c3-4f05-8c09-1b8b20a11203')\"\n",
              "                title=\"Suggest charts\"\n",
              "                style=\"display:none;\">\n",
              "\n",
              "<svg xmlns=\"http://www.w3.org/2000/svg\" height=\"24px\"viewBox=\"0 0 24 24\"\n",
              "     width=\"24px\">\n",
              "    <g>\n",
              "        <path d=\"M19 3H5c-1.1 0-2 .9-2 2v14c0 1.1.9 2 2 2h14c1.1 0 2-.9 2-2V5c0-1.1-.9-2-2-2zM9 17H7v-7h2v7zm4 0h-2V7h2v10zm4 0h-2v-4h2v4z\"/>\n",
              "    </g>\n",
              "</svg>\n",
              "      </button>\n",
              "\n",
              "<style>\n",
              "  .colab-df-quickchart {\n",
              "      --bg-color: #E8F0FE;\n",
              "      --fill-color: #1967D2;\n",
              "      --hover-bg-color: #E2EBFA;\n",
              "      --hover-fill-color: #174EA6;\n",
              "      --disabled-fill-color: #AAA;\n",
              "      --disabled-bg-color: #DDD;\n",
              "  }\n",
              "\n",
              "  [theme=dark] .colab-df-quickchart {\n",
              "      --bg-color: #3B4455;\n",
              "      --fill-color: #D2E3FC;\n",
              "      --hover-bg-color: #434B5C;\n",
              "      --hover-fill-color: #FFFFFF;\n",
              "      --disabled-bg-color: #3B4455;\n",
              "      --disabled-fill-color: #666;\n",
              "  }\n",
              "\n",
              "  .colab-df-quickchart {\n",
              "    background-color: var(--bg-color);\n",
              "    border: none;\n",
              "    border-radius: 50%;\n",
              "    cursor: pointer;\n",
              "    display: none;\n",
              "    fill: var(--fill-color);\n",
              "    height: 32px;\n",
              "    padding: 0;\n",
              "    width: 32px;\n",
              "  }\n",
              "\n",
              "  .colab-df-quickchart:hover {\n",
              "    background-color: var(--hover-bg-color);\n",
              "    box-shadow: 0 1px 2px rgba(60, 64, 67, 0.3), 0 1px 3px 1px rgba(60, 64, 67, 0.15);\n",
              "    fill: var(--button-hover-fill-color);\n",
              "  }\n",
              "\n",
              "  .colab-df-quickchart-complete:disabled,\n",
              "  .colab-df-quickchart-complete:disabled:hover {\n",
              "    background-color: var(--disabled-bg-color);\n",
              "    fill: var(--disabled-fill-color);\n",
              "    box-shadow: none;\n",
              "  }\n",
              "\n",
              "  .colab-df-spinner {\n",
              "    border: 2px solid var(--fill-color);\n",
              "    border-color: transparent;\n",
              "    border-bottom-color: var(--fill-color);\n",
              "    animation:\n",
              "      spin 1s steps(1) infinite;\n",
              "  }\n",
              "\n",
              "  @keyframes spin {\n",
              "    0% {\n",
              "      border-color: transparent;\n",
              "      border-bottom-color: var(--fill-color);\n",
              "      border-left-color: var(--fill-color);\n",
              "    }\n",
              "    20% {\n",
              "      border-color: transparent;\n",
              "      border-left-color: var(--fill-color);\n",
              "      border-top-color: var(--fill-color);\n",
              "    }\n",
              "    30% {\n",
              "      border-color: transparent;\n",
              "      border-left-color: var(--fill-color);\n",
              "      border-top-color: var(--fill-color);\n",
              "      border-right-color: var(--fill-color);\n",
              "    }\n",
              "    40% {\n",
              "      border-color: transparent;\n",
              "      border-right-color: var(--fill-color);\n",
              "      border-top-color: var(--fill-color);\n",
              "    }\n",
              "    60% {\n",
              "      border-color: transparent;\n",
              "      border-right-color: var(--fill-color);\n",
              "    }\n",
              "    80% {\n",
              "      border-color: transparent;\n",
              "      border-right-color: var(--fill-color);\n",
              "      border-bottom-color: var(--fill-color);\n",
              "    }\n",
              "    90% {\n",
              "      border-color: transparent;\n",
              "      border-bottom-color: var(--fill-color);\n",
              "    }\n",
              "  }\n",
              "</style>\n",
              "\n",
              "      <script>\n",
              "        async function quickchart(key) {\n",
              "          const quickchartButtonEl =\n",
              "            document.querySelector('#' + key + ' button');\n",
              "          quickchartButtonEl.disabled = true;  // To prevent multiple clicks.\n",
              "          quickchartButtonEl.classList.add('colab-df-spinner');\n",
              "          try {\n",
              "            const charts = await google.colab.kernel.invokeFunction(\n",
              "                'suggestCharts', [key], {});\n",
              "          } catch (error) {\n",
              "            console.error('Error during call to suggestCharts:', error);\n",
              "          }\n",
              "          quickchartButtonEl.classList.remove('colab-df-spinner');\n",
              "          quickchartButtonEl.classList.add('colab-df-quickchart-complete');\n",
              "        }\n",
              "        (() => {\n",
              "          let quickchartButtonEl =\n",
              "            document.querySelector('#df-fe1add7c-b2c3-4f05-8c09-1b8b20a11203 button');\n",
              "          quickchartButtonEl.style.display =\n",
              "            google.colab.kernel.accessAllowed ? 'block' : 'none';\n",
              "        })();\n",
              "      </script>\n",
              "    </div>\n",
              "\n",
              "  <div id=\"id_98fc2b1a-1092-4d89-8ccb-7ee9ccc73749\">\n",
              "    <style>\n",
              "      .colab-df-generate {\n",
              "        background-color: #E8F0FE;\n",
              "        border: none;\n",
              "        border-radius: 50%;\n",
              "        cursor: pointer;\n",
              "        display: none;\n",
              "        fill: #1967D2;\n",
              "        height: 32px;\n",
              "        padding: 0 0 0 0;\n",
              "        width: 32px;\n",
              "      }\n",
              "\n",
              "      .colab-df-generate:hover {\n",
              "        background-color: #E2EBFA;\n",
              "        box-shadow: 0px 1px 2px rgba(60, 64, 67, 0.3), 0px 1px 3px 1px rgba(60, 64, 67, 0.15);\n",
              "        fill: #174EA6;\n",
              "      }\n",
              "\n",
              "      [theme=dark] .colab-df-generate {\n",
              "        background-color: #3B4455;\n",
              "        fill: #D2E3FC;\n",
              "      }\n",
              "\n",
              "      [theme=dark] .colab-df-generate:hover {\n",
              "        background-color: #434B5C;\n",
              "        box-shadow: 0px 1px 3px 1px rgba(0, 0, 0, 0.15);\n",
              "        filter: drop-shadow(0px 1px 2px rgba(0, 0, 0, 0.3));\n",
              "        fill: #FFFFFF;\n",
              "      }\n",
              "    </style>\n",
              "    <button class=\"colab-df-generate\" onclick=\"generateWithVariable('data')\"\n",
              "            title=\"Generate code using this dataframe.\"\n",
              "            style=\"display:none;\">\n",
              "\n",
              "  <svg xmlns=\"http://www.w3.org/2000/svg\" height=\"24px\"viewBox=\"0 0 24 24\"\n",
              "       width=\"24px\">\n",
              "    <path d=\"M7,19H8.4L18.45,9,17,7.55,7,17.6ZM5,21V16.75L18.45,3.32a2,2,0,0,1,2.83,0l1.4,1.43a1.91,1.91,0,0,1,.58,1.4,1.91,1.91,0,0,1-.58,1.4L9.25,21ZM18.45,9,17,7.55Zm-12,3A5.31,5.31,0,0,0,4.9,8.1,5.31,5.31,0,0,0,1,6.5,5.31,5.31,0,0,0,4.9,4.9,5.31,5.31,0,0,0,6.5,1,5.31,5.31,0,0,0,8.1,4.9,5.31,5.31,0,0,0,12,6.5,5.46,5.46,0,0,0,6.5,12Z\"/>\n",
              "  </svg>\n",
              "    </button>\n",
              "    <script>\n",
              "      (() => {\n",
              "      const buttonEl =\n",
              "        document.querySelector('#id_98fc2b1a-1092-4d89-8ccb-7ee9ccc73749 button.colab-df-generate');\n",
              "      buttonEl.style.display =\n",
              "        google.colab.kernel.accessAllowed ? 'block' : 'none';\n",
              "\n",
              "      buttonEl.onclick = () => {\n",
              "        google.colab.notebook.generateWithVariable('data');\n",
              "      }\n",
              "      })();\n",
              "    </script>\n",
              "  </div>\n",
              "\n",
              "    </div>\n",
              "  </div>\n"
            ],
            "application/vnd.google.colaboratory.intrinsic+json": {
              "type": "dataframe",
              "variable_name": "data",
              "summary": "{\n  \"name\": \"data\",\n  \"rows\": 40000,\n  \"fields\": [\n    {\n      \"column\": \"tweet_id\",\n      \"properties\": {\n        \"dtype\": \"number\",\n        \"std\": 118857896,\n        \"min\": 1693956175,\n        \"max\": 1966441171,\n        \"num_unique_values\": 40000,\n        \"samples\": [\n          1752414968,\n          1965295852,\n          1696219218\n        ],\n        \"semantic_type\": \"\",\n        \"description\": \"\"\n      }\n    },\n    {\n      \"column\": \"sentiment\",\n      \"properties\": {\n        \"dtype\": \"category\",\n        \"num_unique_values\": 13,\n        \"samples\": [\n          \"relief\",\n          \"happiness\",\n          \"empty\"\n        ],\n        \"semantic_type\": \"\",\n        \"description\": \"\"\n      }\n    },\n    {\n      \"column\": \"content\",\n      \"properties\": {\n        \"dtype\": \"string\",\n        \"num_unique_values\": 39827,\n        \"samples\": [\n          \"the sun is shinning! im off out!!\",\n          \"wow i must have been tired. i fell asleep @ exactly the start of the 10pm news &amp; now up as if its 8am.\",\n          \"@knobzie their loss\"\n        ],\n        \"semantic_type\": \"\",\n        \"description\": \"\"\n      }\n    }\n  ]\n}"
            }
          },
          "metadata": {},
          "execution_count": 4
        }
      ],
      "source": [
        "data = data.drop('author', axis=1)\n",
        "data"
      ]
    },
    {
      "cell_type": "code",
      "execution_count": 5,
      "metadata": {
        "id": "YrRFHBMxONK0"
      },
      "outputs": [],
      "source": [
        "#Dropping rows with other emotion labels\n",
        "\n",
        "data  = data.drop(data[data.sentiment == 'anger'].index)\n",
        "data  = data.drop(data[data.sentiment == 'boredom'].index)\n",
        "data  = data.drop(data[data.sentiment == 'enthusiasm'].index)\n",
        "data  = data.drop(data[data.sentiment == 'empty'].index)\n",
        "data  = data.drop(data[data.sentiment == 'fun'].index)\n",
        "data  = data.drop(data[data.sentiment == 'relief'].index)\n",
        "data  = data.drop(data[data.sentiment == 'surprise'].index)\n",
        "data  = data.drop(data[data.sentiment == 'love'].index)\n",
        "data  = data.drop(data[data.sentiment == 'hate'].index)\n",
        "data  = data.drop(data[data.sentiment == 'neutral'].index)\n",
        "data  = data.drop(data[data.sentiment == 'worry'].index)"
      ]
    },
    {
      "cell_type": "code",
      "source": [
        "# --- run once if needed ---\n",
        "%pip install -q emoji==2.10.1 contractions nltk"
      ],
      "metadata": {
        "colab": {
          "base_uri": "https://localhost:8080/"
        },
        "id": "vrZAJ-oU-G6Y",
        "outputId": "098d084f-c7bc-450f-a6f4-1f65497d2c3d"
      },
      "execution_count": 6,
      "outputs": [
        {
          "output_type": "stream",
          "name": "stdout",
          "text": [
            "\u001b[?25l   \u001b[90m━━━━━━━━━━━━━━━━━━━━━━━━━━━━━━━━━━━━━━━━\u001b[0m \u001b[32m0.0/421.5 kB\u001b[0m \u001b[31m?\u001b[0m eta \u001b[36m-:--:--\u001b[0m\r\u001b[2K   \u001b[91m━━━━━━━━━━━━━━━━━━━━━━━━━━━━━━━━━━━━━━━\u001b[0m\u001b[91m╸\u001b[0m \u001b[32m419.8/421.5 kB\u001b[0m \u001b[31m29.0 MB/s\u001b[0m eta \u001b[36m0:00:01\u001b[0m\r\u001b[2K   \u001b[90m━━━━━━━━━━━━━━━━━━━━━━━━━━━━━━━━━━━━━━━━\u001b[0m \u001b[32m421.5/421.5 kB\u001b[0m \u001b[31m10.3 MB/s\u001b[0m eta \u001b[36m0:00:00\u001b[0m\n",
            "\u001b[2K   \u001b[90m━━━━━━━━━━━━━━━━━━━━━━━━━━━━━━━━━━━━━━━━\u001b[0m \u001b[32m345.1/345.1 kB\u001b[0m \u001b[31m8.1 MB/s\u001b[0m eta \u001b[36m0:00:00\u001b[0m\n",
            "\u001b[2K   \u001b[90m━━━━━━━━━━━━━━━━━━━━━━━━━━━━━━━━━━━━━━━━\u001b[0m \u001b[32m114.9/114.9 kB\u001b[0m \u001b[31m4.4 MB/s\u001b[0m eta \u001b[36m0:00:00\u001b[0m\n",
            "\u001b[?25h"
          ]
        }
      ]
    },
    {
      "cell_type": "code",
      "source": [
        "import re, nltk, emoji, contractions\n",
        "from nltk.corpus import stopwords\n",
        "from nltk.stem import WordNetLemmatizer\n",
        "from nltk import pos_tag\n",
        "\n",
        "# --- NLTK resources (safe if run multiple times) ---\n",
        "for corp in ['stopwords','wordnet','omw-1.4']:\n",
        "    try: nltk.data.find(f'corpora/{corp}')\n",
        "    except LookupError: nltk.download(corp)\n",
        "\n",
        "# tagger names differ across NLTK versions; try both\n",
        "for tagger in ['averaged_perceptron_tagger', 'averaged_perceptron_tagger_eng']:\n",
        "    try: nltk.data.find(f'taggers/{tagger}')\n",
        "    except LookupError:\n",
        "        try: nltk.download(tagger)\n",
        "        except: pass\n",
        "\n",
        "# --- helpers ---\n",
        "NEGATIONS = {\n",
        "    'no','nor','not',\"don't\",\"didn't\",\"isn't\",\"wasn't\",\"aren't\",\"weren't\",\n",
        "    \"won't\",\"can't\",\"couldn't\",\"shouldn't\",\"wouldn't\",\"doesn't\",\"ain't\",\"n't\"\n",
        "}\n",
        "STOP = set(stopwords.words('english')) - NEGATIONS\n",
        "WN = WordNetLemmatizer()\n",
        "\n",
        "def _map_pos(tag):\n",
        "    return {'J':'a','V':'v','N':'n','R':'r'}.get(tag[:1], 'n')\n",
        "\n",
        "def clean_tweet(text, lemmatize=True):\n",
        "    if not isinstance(text, str):\n",
        "        return ''\n",
        "    x = text.lower()\n",
        "\n",
        "    # Twitter-specific\n",
        "    x = re.sub(r'http\\S+|www\\.\\S+', ' URL ', x)     # URLs -> token\n",
        "    x = re.sub(r'@\\w+', ' USER ', x)                # mentions -> token\n",
        "    x = re.sub(r'\\brt\\b', ' ', x)                   # strip retweets\n",
        "    x = re.sub(r'#(\\w+)', r'\\1', x)                 # keep hashtag word\n",
        "\n",
        "    # Emojis / contractions / elongations / numbers\n",
        "    x = emoji.demojize(x)                           # 🙂 -> :slightly_smiling_face:\n",
        "    x = contractions.fix(x)                         # can't -> can not\n",
        "    x = re.sub(r'(.)\\1{2,}', r'\\1\\1', x)            # soooo -> soo\n",
        "    x = re.sub(r'\\d+', ' NUM ', x)                  # numbers -> token\n",
        "\n",
        "    # Punctuation & whitespace\n",
        "    x = re.sub(r'[^\\w\\s]', ' ', x)                  # keep letters/numbers/underscore\n",
        "    x = re.sub(r'\\s+', ' ', x).strip()\n",
        "\n",
        "    # Lemmatize (optional; set lemmatize=False if slow)\n",
        "    if lemmatize and x:\n",
        "        toks = x.split()\n",
        "        tags = pos_tag(toks)\n",
        "        x = ' '.join(WN.lemmatize(w, _map_pos(t)) for w, t in tags)\n",
        "\n",
        "    # Stopwords (keep negations)\n",
        "    toks = [w for w in x.split() if w not in STOP]\n",
        "    return ' '.join(toks)\n",
        "\n",
        "# ---- APPLY HERE ----\n",
        "data['content_clean'] = data['content'].apply(clean_tweet)\n",
        "\n",
        "# (Optional) quick sanity check\n",
        "print(data[['content','content_clean']].head(3))\n"
      ],
      "metadata": {
        "colab": {
          "base_uri": "https://localhost:8080/"
        },
        "id": "iEgRbI9t-E0S",
        "outputId": "5273e466-8b57-4c81-b956-99cfd226c94b"
      },
      "execution_count": 7,
      "outputs": [
        {
          "output_type": "stream",
          "name": "stderr",
          "text": [
            "[nltk_data] Downloading package stopwords to /root/nltk_data...\n",
            "[nltk_data]   Unzipping corpora/stopwords.zip.\n",
            "[nltk_data] Downloading package wordnet to /root/nltk_data...\n",
            "[nltk_data]   Package wordnet is already up-to-date!\n",
            "[nltk_data] Downloading package omw-1.4 to /root/nltk_data...\n",
            "[nltk_data] Downloading package averaged_perceptron_tagger to\n",
            "[nltk_data]     /root/nltk_data...\n",
            "[nltk_data]   Unzipping taggers/averaged_perceptron_tagger.zip.\n",
            "[nltk_data] Downloading package averaged_perceptron_tagger_eng to\n",
            "[nltk_data]     /root/nltk_data...\n",
            "[nltk_data]   Unzipping taggers/averaged_perceptron_tagger_eng.zip.\n"
          ]
        },
        {
          "output_type": "stream",
          "name": "stdout",
          "text": [
            "                                             content  \\\n",
            "1  Layin n bed with a headache  ughhhh...waitin o...   \n",
            "2                Funeral ceremony...gloomy friday...   \n",
            "6  I should be sleep, but im not! thinking about ...   \n",
            "\n",
            "                                       content_clean  \n",
            "1              layin n bed headache ughh waitin call  \n",
            "2                     funeral ceremony gloomy friday  \n",
            "6  sleep not think old friend want marry damn amp...  \n"
          ]
        }
      ]
    },
    {
      "cell_type": "code",
      "execution_count": 8,
      "metadata": {
        "colab": {
          "base_uri": "https://localhost:8080/"
        },
        "id": "uGmB5R0aONK1",
        "outputId": "485e1eab-e813-4b14-c68b-04582aeb7dff"
      },
      "outputs": [
        {
          "output_type": "stream",
          "name": "stderr",
          "text": [
            "[nltk_data] Downloading package stopwords to /root/nltk_data...\n",
            "[nltk_data]   Package stopwords is already up-to-date!\n"
          ]
        }
      ],
      "source": [
        "import nltk\n",
        "nltk.download('stopwords')\n",
        "from nltk.corpus import stopwords\n",
        "\n",
        "# Lowercasing\n",
        "data['content'] = data['content'].str.lower()\n",
        "\n",
        "# Removing punctuation/symbols\n",
        "data['content'] = data['content'].str.replace(r'[^\\w\\s]', ' ', regex=True)\n",
        "\n",
        "# Removing stopwords\n",
        "stop = set(stopwords.words('english'))\n",
        "data['content'] = data['content'].apply(lambda x: \" \".join(word for word in x.split() if word not in stop))"
      ]
    },
    {
      "cell_type": "code",
      "execution_count": 9,
      "metadata": {
        "id": "XbRLB_MSONK1"
      },
      "outputs": [],
      "source": [
        "# Code to find the top 10,000 rarest words (modify according to your dataset)\n",
        "# appearing in the data\n",
        "freq = pd.Series(' '.join(data['content']).split()).value_counts()[-10000:]\n",
        "\n",
        "# Removing all those rarely appearing words from the data\n",
        "freq = list(freq.index)\n",
        "data['content'] = data['content'].apply(lambda x: \" \".join(x for x in x.split() if x not in freq))"
      ]
    },
    {
      "cell_type": "code",
      "execution_count": 10,
      "metadata": {
        "colab": {
          "base_uri": "https://localhost:8080/"
        },
        "id": "X2EHE_74ONK1",
        "outputId": "9a23e35a-95a4-4795-f949-0aeefd7541f5"
      },
      "outputs": [
        {
          "output_type": "execute_result",
          "data": {
            "text/plain": [
              "array(['already get tax money winning pole position ha ha',\n",
              "       'please please anyone', 'good morning', ...,\n",
              "       'humous dorito oh yes',\n",
              "       'posting late got back seeing star trek awesome',\n",
              "       'sad otalia today'], dtype=object)"
            ]
          },
          "metadata": {},
          "execution_count": 10
        }
      ],
      "source": [
        "#Encoding output labels 'sadness' as '1' & 'happiness' as '0'\n",
        "from sklearn import preprocessing\n",
        "lbl_enc = preprocessing.LabelEncoder()\n",
        "y = lbl_enc.fit_transform(data.sentiment.values)\n",
        "\n",
        "# Splitting into training and testing data in 90:10 ratio\n",
        "from sklearn.model_selection import train_test_split\n",
        "X_train, X_val, y_train, y_val = train_test_split(data.content.values, y, stratify=y, random_state=42, test_size=0.1, shuffle=True)\n",
        "X_train"
      ]
    },
    {
      "cell_type": "code",
      "execution_count": 11,
      "metadata": {
        "id": "_Trwcu3UONK1"
      },
      "outputs": [],
      "source": [
        "# Extracting TF-IDF parameters\n",
        "from sklearn.feature_extraction.text import TfidfVectorizer\n",
        "tfidf = TfidfVectorizer(max_features=1000, analyzer='word',ngram_range=(1,3))\n",
        "X_train_tfidf = tfidf.fit_transform(X_train)\n",
        "X_val_tfidf = tfidf.fit_transform(X_val)"
      ]
    },
    {
      "cell_type": "code",
      "execution_count": 12,
      "metadata": {
        "id": "R_1cyRPgONK1"
      },
      "outputs": [],
      "source": [
        "# Extracting Count Vectors Parameters\n",
        "from sklearn.feature_extraction.text import CountVectorizer\n",
        "count_vect = CountVectorizer(analyzer='word')\n",
        "count_vect.fit(data['content'])\n",
        "X_train_count =  count_vect.transform(X_train)\n",
        "X_val_count =  count_vect.transform(X_val)"
      ]
    },
    {
      "cell_type": "markdown",
      "metadata": {
        "id": "CNvhVasYONK2"
      },
      "source": [
        "# Models using the TF-IDF features"
      ]
    },
    {
      "cell_type": "markdown",
      "metadata": {
        "id": "9tVPXE0_ONK3"
      },
      "source": [
        "## Model 1: Multinomial Naive Bayes Classifier"
      ]
    },
    {
      "cell_type": "code",
      "execution_count": 13,
      "metadata": {
        "colab": {
          "base_uri": "https://localhost:8080/"
        },
        "id": "Hk8Bya9kONK3",
        "outputId": "6dec1158-27df-4524-e3a8-b7758f0cfc90"
      },
      "outputs": [
        {
          "output_type": "stream",
          "name": "stdout",
          "text": [
            "naive bayes tfidf accuracy 0.5163776493256262\n"
          ]
        },
        {
          "output_type": "execute_result",
          "data": {
            "text/plain": [
              "array([[253, 268],\n",
              "       [234, 283]])"
            ]
          },
          "metadata": {},
          "execution_count": 13
        }
      ],
      "source": [
        "from sklearn.metrics import accuracy_score\n",
        "from sklearn.metrics import confusion_matrix\n",
        "from sklearn.naive_bayes import MultinomialNB\n",
        "accuracy=[]\n",
        "nb = MultinomialNB()\n",
        "nb.fit(X_train_tfidf, y_train)\n",
        "y_pred = nb.predict(X_val_tfidf)\n",
        "accuracy.append(accuracy_score(y_pred, y_val)*100)\n",
        "print('naive bayes tfidf accuracy %s' % accuracy_score(y_pred, y_val))\n",
        "confusion_matrix(y_val, y_pred)"
      ]
    },
    {
      "cell_type": "markdown",
      "metadata": {
        "id": "wYKW_k0IONK3"
      },
      "source": [
        "## Model 2: Linear SVM"
      ]
    },
    {
      "cell_type": "code",
      "execution_count": 14,
      "metadata": {
        "colab": {
          "base_uri": "https://localhost:8080/"
        },
        "id": "LsU3splhONK3",
        "outputId": "582f11f4-fc54-4521-bd3b-1a36cd2e780b"
      },
      "outputs": [
        {
          "output_type": "stream",
          "name": "stdout",
          "text": [
            "svm using tfidf accuracy 0.5366088631984586\n"
          ]
        },
        {
          "output_type": "execute_result",
          "data": {
            "text/plain": [
              "array([[230, 291],\n",
              "       [190, 327]])"
            ]
          },
          "metadata": {},
          "execution_count": 14
        }
      ],
      "source": [
        "from sklearn.linear_model import SGDClassifier\n",
        "lsvm = SGDClassifier(alpha=0.001, random_state=5, max_iter=15, tol=None)\n",
        "lsvm.fit(X_train_tfidf, y_train)\n",
        "y_pred = lsvm.predict(X_val_tfidf)\n",
        "accuracy.append(accuracy_score(y_pred, y_val)*100)\n",
        "print('svm using tfidf accuracy %s' %accuracy_score(y_pred, y_val))\n",
        "confusion_matrix(y_val, y_pred)"
      ]
    },
    {
      "cell_type": "markdown",
      "metadata": {
        "id": "sHZXGe9kONK3"
      },
      "source": [
        "## Model 3: logistic regression"
      ]
    },
    {
      "cell_type": "code",
      "execution_count": 15,
      "metadata": {
        "colab": {
          "base_uri": "https://localhost:8080/"
        },
        "id": "1M7miigNONK3",
        "outputId": "83ff1d51-6682-4402-a7d7-793b4dc49ec1"
      },
      "outputs": [
        {
          "output_type": "stream",
          "name": "stdout",
          "text": [
            "log reg tfidf accuracy 0.5327552986512524\n"
          ]
        },
        {
          "output_type": "execute_result",
          "data": {
            "text/plain": [
              "array([[257, 264],\n",
              "       [221, 296]])"
            ]
          },
          "metadata": {},
          "execution_count": 15
        }
      ],
      "source": [
        "from sklearn.linear_model import LogisticRegression\n",
        "logreg = LogisticRegression(C=1)\n",
        "logreg.fit(X_train_tfidf, y_train)\n",
        "y_pred = logreg.predict(X_val_tfidf)\n",
        "accuracy.append(accuracy_score(y_pred, y_val)*100)\n",
        "print('log reg tfidf accuracy %s' % accuracy_score(y_pred, y_val))\n",
        "confusion_matrix(y_val, y_pred)"
      ]
    },
    {
      "cell_type": "markdown",
      "metadata": {
        "id": "yA0famunONK3"
      },
      "source": [
        "## Model 4: Random Forest Classifier"
      ]
    },
    {
      "cell_type": "code",
      "execution_count": 16,
      "metadata": {
        "colab": {
          "base_uri": "https://localhost:8080/"
        },
        "id": "9hi2Xec8ONK3",
        "outputId": "1812ae1d-25eb-413e-aee8-c81c91f46aea"
      },
      "outputs": [
        {
          "output_type": "stream",
          "name": "stdout",
          "text": [
            "randon forest tfidf accuracy 0.5366088631984586\n"
          ]
        },
        {
          "output_type": "execute_result",
          "data": {
            "text/plain": [
              "array([[298, 223],\n",
              "       [258, 259]])"
            ]
          },
          "metadata": {},
          "execution_count": 16
        }
      ],
      "source": [
        "from sklearn.ensemble import RandomForestClassifier\n",
        "rf = RandomForestClassifier(n_estimators=500)\n",
        "rf.fit(X_train_tfidf, y_train)\n",
        "y_pred = rf.predict(X_val_tfidf)\n",
        "accuracy.append(accuracy_score(y_pred, y_val)*100)\n",
        "print('randon forest tfidf accuracy %s' % accuracy_score(y_pred, y_val))\n",
        "confusion_matrix(y_val, y_pred)"
      ]
    },
    {
      "cell_type": "markdown",
      "metadata": {
        "id": "z07kl6IjONK3"
      },
      "source": [
        "# Models using count vectors features"
      ]
    },
    {
      "cell_type": "markdown",
      "metadata": {
        "id": "g5YimYiLONK4"
      },
      "source": [
        "## Model 1: Multinomial Naive Bayes Classifier"
      ]
    },
    {
      "cell_type": "code",
      "execution_count": 17,
      "metadata": {
        "colab": {
          "base_uri": "https://localhost:8080/"
        },
        "id": "Rk9CAgCQONK4",
        "outputId": "81a6bb94-b942-4f06-e397-35384d5ced4b"
      },
      "outputs": [
        {
          "output_type": "stream",
          "name": "stdout",
          "text": [
            "naive bayes count vectors accuracy 0.7726396917148363\n"
          ]
        },
        {
          "output_type": "execute_result",
          "data": {
            "text/plain": [
              "array([[390, 131],\n",
              "       [105, 412]])"
            ]
          },
          "metadata": {},
          "execution_count": 17
        }
      ],
      "source": [
        "from sklearn.naive_bayes import MultinomialNB\n",
        "nb = MultinomialNB()\n",
        "nb.fit(X_train_count, y_train)\n",
        "y_pred = nb.predict(X_val_count)\n",
        "accuracy.append(accuracy_score(y_pred, y_val)*100)\n",
        "print('naive bayes count vectors accuracy %s' % accuracy_score(y_pred, y_val))\n",
        "confusion_matrix(y_val, y_pred)"
      ]
    },
    {
      "cell_type": "markdown",
      "metadata": {
        "id": "ocVgkLmEONK4"
      },
      "source": [
        "## Model 2: Linear SVM"
      ]
    },
    {
      "cell_type": "code",
      "execution_count": 18,
      "metadata": {
        "colab": {
          "base_uri": "https://localhost:8080/"
        },
        "id": "xOPgLcgZONK4",
        "outputId": "8a6029f8-0003-4fe3-b440-4e66af1a282c"
      },
      "outputs": [
        {
          "output_type": "stream",
          "name": "stdout",
          "text": [
            "lsvm using count vectors accuracy 0.7967244701348748\n"
          ]
        },
        {
          "output_type": "execute_result",
          "data": {
            "text/plain": [
              "array([[425,  96],\n",
              "       [115, 402]])"
            ]
          },
          "metadata": {},
          "execution_count": 18
        }
      ],
      "source": [
        "from sklearn.linear_model import SGDClassifier\n",
        "lsvm = SGDClassifier(alpha=0.001, random_state=5, max_iter=15, tol=None)\n",
        "lsvm.fit(X_train_count, y_train)\n",
        "y_pred = lsvm.predict(X_val_count)\n",
        "accuracy.append(accuracy_score(y_pred, y_val)*100)\n",
        "print('lsvm using count vectors accuracy %s' % accuracy_score(y_pred, y_val))\n",
        "confusion_matrix(y_val, y_pred)"
      ]
    },
    {
      "cell_type": "markdown",
      "metadata": {
        "id": "ER_J75L6ONK4"
      },
      "source": [
        "## Model 3: Logistic Regression"
      ]
    },
    {
      "cell_type": "code",
      "execution_count": 19,
      "metadata": {
        "colab": {
          "base_uri": "https://localhost:8080/"
        },
        "id": "uOR4VBnSONK4",
        "outputId": "5f68c37d-267d-49d8-85a9-9845eac36741"
      },
      "outputs": [
        {
          "output_type": "stream",
          "name": "stdout",
          "text": [
            "log reg count vectors accuracy 0.7822736030828517\n"
          ]
        },
        {
          "output_type": "execute_result",
          "data": {
            "text/plain": [
              "array([[418, 103],\n",
              "       [123, 394]])"
            ]
          },
          "metadata": {},
          "execution_count": 19
        }
      ],
      "source": [
        "from sklearn.linear_model import LogisticRegression\n",
        "logreg = LogisticRegression(C=1)\n",
        "logreg.fit(X_train_count, y_train)\n",
        "y_pred = logreg.predict(X_val_count)\n",
        "accuracy.append(accuracy_score(y_pred, y_val)*100)\n",
        "print('log reg count vectors accuracy %s' % accuracy_score(y_pred, y_val))\n",
        "confusion_matrix(y_val, y_pred)"
      ]
    },
    {
      "cell_type": "markdown",
      "metadata": {
        "id": "8g6LbSngONK4"
      },
      "source": [
        "## Model 4: Random Forest Classifier"
      ]
    },
    {
      "cell_type": "code",
      "execution_count": 20,
      "metadata": {
        "colab": {
          "base_uri": "https://localhost:8080/"
        },
        "id": "5qvFHEEaONK4",
        "outputId": "75b61e4c-d654-43eb-ba46-8e1766ee96b7"
      },
      "outputs": [
        {
          "output_type": "stream",
          "name": "stdout",
          "text": [
            "random forest with count vectors accuracy 0.7524084778420038\n"
          ]
        },
        {
          "output_type": "execute_result",
          "data": {
            "text/plain": [
              "array([[405, 116],\n",
              "       [141, 376]])"
            ]
          },
          "metadata": {},
          "execution_count": 20
        }
      ],
      "source": [
        "from sklearn.ensemble import RandomForestClassifier\n",
        "rf = RandomForestClassifier(n_estimators=500)\n",
        "rf.fit(X_train_count, y_train)\n",
        "y_pred = rf.predict(X_val_count)\n",
        "accuracy.append(accuracy_score(y_pred, y_val)*100)\n",
        "print('random forest with count vectors accuracy %s' % accuracy_score(y_pred, y_val))\n",
        "confusion_matrix(y_val, y_pred)"
      ]
    },
    {
      "cell_type": "markdown",
      "metadata": {
        "id": "yCquFrDlONK4"
      },
      "source": [
        "# Graph based analysis"
      ]
    },
    {
      "cell_type": "code",
      "execution_count": 21,
      "metadata": {
        "colab": {
          "base_uri": "https://localhost:8080/",
          "height": 472
        },
        "id": "E0aDWJ1gONK4",
        "outputId": "a87c6652-2508-443c-dcdf-5eb8181b64a0"
      },
      "outputs": [
        {
          "output_type": "display_data",
          "data": {
            "text/plain": [
              "<Figure size 640x480 with 1 Axes>"
            ],
            "image/png": "[encoded data removed]"
          },
          "metadata": {}
        }
      ],
      "source": [
        "objects = ('Naive Bayes tfidf', 'Svm using tfidf',\n",
        "           'Logistic regression tf idf', 'Random forest tfid',\n",
        "           'Naive Bayes Count Vector', 'Svm using Count Vector',\n",
        "           'Logistic regression Count Vector', 'Random forest Count Vector')\n",
        "y_pos = np.arange(len (objects))\n",
        "plt.barh(y_pos, accuracy, align='center', alpha=0.5)\n",
        "plt.yticks (y_pos, objects)\n",
        "plt.xlabel('Accuracy')\n",
        "plt.title('Accuracy of each model')\n",
        "\n",
        "plt.show()"
      ]
    },
    {
      "cell_type": "markdown",
      "metadata": {
        "id": "_RBFsA2EONK4"
      },
      "source": [
        "# REALITY CHECK"
      ]
    },
    {
      "cell_type": "code",
      "execution_count": 22,
      "metadata": {
        "colab": {
          "base_uri": "https://localhost:8080/"
        },
        "id": "FKbJSGleONK5",
        "outputId": "7af7da49-1908-400d-ae16-84fba2fbd16c"
      },
      "outputs": [
        {
          "output_type": "stream",
          "name": "stdout",
          "text": [
            "[0 0 0 0 1 1 1 1]\n"
          ]
        },
        {
          "output_type": "stream",
          "name": "stderr",
          "text": [
            "<>:11: SyntaxWarning: invalid escape sequence '\\w'\n",
            "<>:11: SyntaxWarning: invalid escape sequence '\\w'\n",
            "/tmp/ipython-input-2696914585.py:11: SyntaxWarning: invalid escape sequence '\\w'\n",
            "  tweets[0] = tweets[0].str.replace('[^\\w\\s]',' ')\n"
          ]
        }
      ],
      "source": [
        "tweets = pd.DataFrame(['I am very happy today! The atmosphere looks cheerful',\n",
        "'Things are looking great. It was such a good day',\n",
        "'Success is right around the corner. Lets celebrate this victory',\n",
        "'Everything is more beautiful when you experience them with a smile!',\n",
        "'Now this is my worst, okay? But I am gonna get better.',\n",
        "'I am tired, boss. Tired of being on the road, lonely as a sparrow in the rain. I am tired of all the pain I feel',\n",
        "'This is quite depressing. I am filled with sorrow',\n",
        "'His death broke my heart. It was a sad day'])\n",
        "\n",
        "# Doing some preprocessing on these tweets as done before\n",
        "tweets[0] = tweets[0].str.replace('[^\\w\\s]',' ')\n",
        "from nltk.corpus import stopwords\n",
        "stop = stopwords.words('english')\n",
        "tweets[0] = tweets[0].apply(lambda x: \" \".join(x for x in x.split() if x not in stop))\n",
        "from textblob import Word\n",
        "tweets[0] = tweets[0].apply(lambda x: \" \".join([Word(word).lemmatize() for word in x.split()]))\n",
        "\n",
        "# Extracting Count Vectors feature from our tweets\n",
        "tweet_count = count_vect.transform(tweets[0])\n",
        "\n",
        "#Predicting the emotion of the tweet using our already trained linear SVM\n",
        "tweet_pred = lsvm.predict(tweet_count)\n",
        "\n",
        "print(tweet_pred)"
      ]
    },
    {
      "cell_type": "code",
      "execution_count": 23,
      "metadata": {
        "colab": {
          "base_uri": "https://localhost:8080/"
        },
        "id": "p9h0mKuJONK5",
        "outputId": "7af8c67e-9807-4e36-84e0-48cd1af808fc"
      },
      "outputs": [
        {
          "output_type": "stream",
          "name": "stdout",
          "text": [
            "                                                text predicted_sentiment\n",
            "0  I am very happy today! The atmosphere looks ch...           happiness\n",
            "1  This is quite depressing. I am filled with sorrow             sadness\n"
          ]
        }
      ],
      "source": [
        "tweets = pd.DataFrame({\n",
        "    'text': [\n",
        "        'I am very happy today! The atmosphere looks cheerful',\n",
        "        'This is quite depressing. I am filled with sorrow'\n",
        "    ]\n",
        "})\n",
        "\n",
        "# clean with the SAME function\n",
        "tweets['clean'] = tweets['text'].apply(clean_tweet)\n",
        "\n",
        "# transform with the SAME vectorizer used to train the model\n",
        "X_tweets = tfidf.transform(tweets['clean'])\n",
        "\n",
        "# use the model that was trained on TF-IDF (change to your best model)\n",
        "best_model = LogisticRegression(C=1.0, max_iter=1000, class_weight='balanced', solver='liblinear')\n",
        "best_model.fit(X_train_tfidf, y_train)\n",
        "pred = best_model.predict(X_tweets)\n",
        "tweets['predicted_sentiment'] = lbl_enc.inverse_transform(pred)\n",
        "print(tweets[['text','predicted_sentiment']])\n"
      ]
    },
    {
      "cell_type": "code",
      "source": [
        "# FINALIZE: train/val/test + metrics + interpretability + save\n",
        "from sklearn.model_selection import train_test_split, StratifiedKFold, GridSearchCV\n",
        "from sklearn.pipeline import Pipeline\n",
        "from sklearn.feature_extraction.text import TfidfVectorizer\n",
        "from sklearn.linear_model import LogisticRegression\n",
        "from sklearn.metrics import classification_report, confusion_matrix, f1_score, roc_auc_score\n",
        "import numpy as np, joblib\n",
        "\n",
        "# Data (clean text + encoded labels)\n",
        "X_all = data['content_clean'].values\n",
        "y_all = lbl_enc.transform(data['sentiment'].values)\n",
        "\n",
        "# 80/10/10 split: train/val/test (stratified, reproducible)\n",
        "X_train, X_temp, y_train, y_temp = train_test_split(X_all, y_all, test_size=0.20, stratify=y_all, random_state=42 )\n",
        "X_val, X_test, y_val, y_test = train_test_split( X_temp, y_temp, test_size=0.50, stratify=y_temp, random_state=42 )\n",
        "\n",
        "# Pipeline + small grid (fast, strong baseline)\n",
        "pipe = Pipeline([\n",
        "    (\"tfidf\", TfidfVectorizer(sublinear_tf=True)),\n",
        "    (\"clf\", LogisticRegression(max_iter=1000, class_weight=\"balanced\", solver=\"liblinear\", random_state=42)),\n",
        "])\n",
        "\n",
        "param_grid = {\n",
        "    \"tfidf__ngram_range\": [(1,1), (1,2)],\n",
        "    \"tfidf__min_df\": [2, 5],\n",
        "    \"tfidf__max_df\": [0.95, 0.98],\n",
        "    \"clf__C\": [0.5, 1.0, 2.0],\n",
        "}\n",
        "\n",
        "cv = StratifiedKFold(n_splits=5, shuffle=True, random_state=42)\n",
        "gs = GridSearchCV(pipe, param_grid, scoring=\"f1_macro\", cv=cv, n_jobs=-1)\n",
        "gs.fit(X_train, y_train)\n",
        "\n",
        "# Validation quick check\n",
        "val_pred = gs.predict(X_val)\n",
        "print(\"Val macro-F1:\", f1_score(y_val, val_pred, average=\"macro\"))\n",
        "\n",
        "# ---- Final TEST report ----\n",
        "y_pred = gs.predict(X_test)\n",
        "print(\"\\n=== TEST REPORT ===\")\n",
        "print(classification_report(y_test, y_pred, target_names=lbl_enc.classes_))\n",
        "print(\"Confusion matrix:\\n\", confusion_matrix(y_test, y_pred))\n",
        "if len(lbl_enc.classes_) == 2:\n",
        "    y_proba = gs.predict_proba(X_test)[:, 1]\n",
        "    print(\"ROC-AUC:\", roc_auc_score(y_test, y_proba))\n",
        "\n",
        "# ---- Top features (LogReg) ----\n",
        "tfidf = gs.best_estimator_[\"tfidf\"]\n",
        "clf   = gs.best_estimator_[\"clf\"]\n",
        "feat  = tfidf.get_feature_names_out()\n",
        "coef  = clf.coef_[0]\n",
        "top_pos = np.argsort(coef)[-15:][::-1]\n",
        "top_neg = np.argsort(coef)[:15]\n",
        "print(\"\\nTop features for class:\", lbl_enc.classes_[np.argmax(clf.classes_)], feat[top_pos])\n",
        "print(\"Top features for class:\", lbl_enc.classes_[np.argmin(clf.classes_)], feat[top_neg])\n",
        "\n",
        "# ---- Save best model ----\n",
        "joblib.dump(gs.best_estimator_, \"twitter_sentiment_pipeline.joblib\")\n",
        "print(\"\\nSaved model -> twitter_sentiment_pipeline.joblib\")"
      ],
      "metadata": {
        "colab": {
          "base_uri": "https://localhost:8080/"
        },
        "id": "JTInTnYsEEQI",
        "outputId": "205ec59e-9acf-4b42-b973-8f95560f5b0c"
      },
      "execution_count": 24,
      "outputs": [
        {
          "output_type": "stream",
          "name": "stdout",
          "text": [
            "Val macro-F1: 0.8311811782479309\n",
            "\n",
            "=== TEST REPORT ===\n",
            "              precision    recall  f1-score   support\n",
            "\n",
            "   happiness       0.79      0.83      0.81       521\n",
            "     sadness       0.82      0.78      0.80       517\n",
            "\n",
            "    accuracy                           0.81      1038\n",
            "   macro avg       0.81      0.81      0.81      1038\n",
            "weighted avg       0.81      0.81      0.81      1038\n",
            "\n",
            "Confusion matrix:\n",
            " [[435  86]\n",
            " [115 402]]\n",
            "ROC-AUC: 0.889275199827738\n",
            "\n",
            "Top features for class: sadness ['sad' 'miss' 'not' 'suck' 'bad' 'no' 'sorry' 'hate' 'hurt' 'cry' 'sick'\n",
            " 'cannot' 'bore' 'wish' 'lose']\n",
            "Top features for class: happiness ['great' 'thanks' 'happy' 'good' 'awesome' 'haha' 'cannot wait' 'yay'\n",
            " 'fun' 'lol' 'enjoy' 'excite' 'thank' 'nice' 'glad']\n",
            "\n",
            "Saved model -> twitter_sentiment_pipeline.joblib\n"
          ]
        }
      ]
    },
    {
      "cell_type": "code",
      "source": [
        "import numpy as np\n",
        "import matplotlib.pyplot as plt\n",
        "from sklearn.metrics import roc_curve, roc_auc_score\n",
        "from sklearn.preprocessing import label_binarize\n",
        "\n",
        "def _score_vector(model, X):\n",
        "    # Works for pipelines or plain estimators\n",
        "    if hasattr(model, \"predict_proba\"):\n",
        "        S = model.predict_proba(X)\n",
        "        return S\n",
        "    if hasattr(model, \"decision_function\"):\n",
        "        S = model.decision_function(X)\n",
        "        # decision_function may return shape (n_samples,) for binary;\n",
        "        # convert to (n_samples, 2) like proba for uniform handling\n",
        "        if S.ndim == 1:\n",
        "            S = np.c_[1 - (S - S.min()) / (S.max() - S.min() + 1e-12),\n",
        "                      (S - S.min()) / (S.max() - S.min() + 1e-12)]\n",
        "        return S\n",
        "    # Fallback (not ideal for ROC): use predictions as scores\n",
        "    P = model.predict(X)\n",
        "    # make a 2-col \"score\" guess\n",
        "    return np.c_[1 - P, P]\n",
        "\n",
        "def plot_roc(model, X, y, lbl_enc=None, positive_class_name=None, title=\"ROC Curve\"):\n",
        "    # Determine classes and binarize y if needed\n",
        "    classes = np.unique(y)\n",
        "    is_binary = len(classes) == 2\n",
        "\n",
        "    # Scores: shape (n_samples, n_classes) if possible\n",
        "    S = _score_vector(model, X)\n",
        "\n",
        "    plt.figure()\n",
        "    if is_binary:\n",
        "        # pick positive label\n",
        "        if positive_class_name is not None and lbl_enc is not None:\n",
        "            pos_label = lbl_enc.transform([positive_class_name])[0]\n",
        "        else:\n",
        "            # default: label \"1\" is positive (LabelEncoder likely mapped 'sadness' to 1)\n",
        "            pos_label = 1\n",
        "\n",
        "        # Get score column for pos class\n",
        "        # If S is 1D, make it a 2D proba-like array above; else select the correct column\n",
        "        if S.ndim == 1:\n",
        "            pos_scores = S\n",
        "        else:\n",
        "            # find index of pos_label among model.classes_ if available; else assume column 1\n",
        "            if hasattr(model, \"classes_\"):\n",
        "                # handle pipeline: try to get final estimator\n",
        "                clf = model\n",
        "                if hasattr(model, \"named_steps\") and \"clf\" in model.named_steps:\n",
        "                    clf = model.named_steps[\"clf\"]\n",
        "                if hasattr(clf, \"classes_\"):\n",
        "                    class_order = clf.classes_\n",
        "                    # find column idx of pos_label\n",
        "                    try:\n",
        "                        col = list(class_order).index(pos_label)\n",
        "                    except ValueError:\n",
        "                        col = 1  # fallback\n",
        "                    pos_scores = S[:, col]\n",
        "                else:\n",
        "                    pos_scores = S[:, 1] if S.shape[1] > 1 else S.ravel()\n",
        "            else:\n",
        "                pos_scores = S[:, 1] if S.shape[1] > 1 else S.ravel()\n",
        "\n",
        "        fpr, tpr, _ = roc_curve(y, pos_scores, pos_label=pos_label)\n",
        "        auc_val = roc_auc_score(y, pos_scores)\n",
        "        plt.plot(fpr, tpr, label=f\"AUC = {auc_val:.3f}\")\n",
        "    else:\n",
        "        # One-vs-rest micro-average\n",
        "        Y = label_binarize(y, classes=classes)\n",
        "        # If S is binary scores, convert to one score per class\n",
        "        if S.ndim == 1:\n",
        "            S = np.c_[1 - S, S]\n",
        "        fpr, tpr, _ = roc_curve(Y.ravel(), S.ravel())\n",
        "        auc_val = roc_auc_score(Y, S, average=\"micro\", multi_class=\"ovr\")\n",
        "        plt.plot(fpr, tpr, label=f\"micro-avg AUC = {auc_val:.3f}\")\n",
        "\n",
        "    plt.plot([0, 1], [0, 1], linestyle=\"--\")\n",
        "    plt.xlabel(\"False Positive Rate\")\n",
        "    plt.ylabel(\"True Positive Rate\")\n",
        "    plt.title(title)\n",
        "    plt.legend(loc=\"lower right\")\n",
        "    plt.grid(True)\n",
        "    plt.show()\n",
        "\n",
        "# ------- USE IT -------\n",
        "# If you used GridSearchCV:\n",
        "model = gs.best_estimator_   # or: model = your_fitted_pipeline_or_estimator\n",
        "X_eval = X_test              # or X_val\n",
        "y_eval = y_test              # or y_val\n",
        "\n",
        "# If you want \"happiness\" as the positive class on the ROC:\n",
        "# plot_roc(model, X_eval, y_eval, lbl_enc=lbl_enc, positive_class_name=\"happiness\")\n",
        "\n",
        "# Default (positive label = 1, likely 'sadness'):\n",
        "plot_roc(model, X_eval, y_eval, lbl_enc=lbl_enc, title=\"ROC — Test Set\")"
      ],
      "metadata": {
        "colab": {
          "base_uri": "https://localhost:8080/",
          "height": 472
        },
        "id": "JsRBOTInFmGA",
        "outputId": "c045650f-6d9a-4fc5-ef65-8938ea4b7cb3"
      },
      "execution_count": 25,
      "outputs": [
        {
          "output_type": "display_data",
          "data": {
            "text/plain": [
              "<Figure size 640x480 with 1 Axes>"
            ],
            "image/png": "[encoded data removed]"
          },
          "metadata": {}
        }
      ]
    }
  ],
  "metadata": {
    "kernelspec": {
      "display_name": "Python 3",
      "language": "python",
      "name": "python3"
    },
    "language_info": {
      "codemirror_mode": {
        "name": "ipython",
        "version": 3
      },
      "file_extension": ".py",
      "mimetype": "text/x-python",
      "name": "python",
      "nbconvert_exporter": "python",
      "pygments_lexer": "ipython3",
      "version": "3.7.4"
    },
    "colab": {
      "provenance": []
    }
  },
  "nbformat": 4,
  "nbformat_minor": 0
}